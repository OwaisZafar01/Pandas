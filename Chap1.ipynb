{
 "cells": [
  {
   "cell_type": "markdown",
   "id": "c01cf493-8274-4059-a344-3f8164af1d18",
   "metadata": {},
   "source": [
    "# Complete Pandas"
   ]
  },
  {
   "cell_type": "markdown",
   "id": "e0e39ea1-0677-48cd-a88c-442360b115c8",
   "metadata": {},
   "source": [
    "## Pandas Series"
   ]
  },
  {
   "cell_type": "code",
   "execution_count": 3,
   "id": "256eeb30-7ad0-4565-bd74-481e37476d3a",
   "metadata": {},
   "outputs": [
    {
     "name": "stdout",
     "output_type": "stream",
     "text": [
      "0      Pakistan\n",
      "1         India\n",
      "2          Iran\n",
      "3    Bangladesh\n",
      "4       England\n",
      "dtype: object\n",
      "0     90\n",
      "1    100\n",
      "2    102\n",
      "3    300\n",
      "4    400\n",
      "dtype: int64\n"
     ]
    }
   ],
   "source": [
    "import numpy as np\n",
    "import pandas as pd\n",
    "\n",
    "# Series as a List\n",
    "\n",
    "# i use two variable in a whole pandas\n",
    "# df = data frame\n",
    "# s = series\n",
    "\n",
    "country = ['Pakistan','India','Iran','Bangladesh','England']\n",
    "s = pd.Series(country)\n",
    "print(s)\n",
    "\n",
    "runs = [90,100,102,300,400]\n",
    "s = pd.Series(runs)\n",
    "print(s)\n"
   ]
  },
  {
   "cell_type": "code",
   "execution_count": 7,
   "id": "3e039f69-1edb-4b44-83be-5f6cceeb1f17",
   "metadata": {},
   "outputs": [
    {
     "name": "stdout",
     "output_type": "stream",
     "text": [
      "Maths        100\n",
      "Physics       90\n",
      "Chemistry     86\n",
      "English       44\n",
      "dtype: int64\n"
     ]
    }
   ],
   "source": [
    "# custom index\n",
    "\n",
    "marks = [100, 90, 86, 44]\n",
    "subj = ['Maths','Physics','Chemistry','English']\n",
    "\n",
    "s = pd.Series(marks, index = subj)\n",
    "print(s)"
   ]
  },
  {
   "cell_type": "code",
   "execution_count": 8,
   "id": "3ff52ce3-48f0-4b23-ba68-d25b672ea8d6",
   "metadata": {},
   "outputs": [
    {
     "name": "stdout",
     "output_type": "stream",
     "text": [
      "Maths        100\n",
      "Physics       90\n",
      "Chemistry     86\n",
      "English       44\n",
      "Name: Owais ke marks, dtype: int64\n"
     ]
    }
   ],
   "source": [
    "# name means hmm apne series ko aik name de dete hai\n",
    "marks = [100, 90, 86, 44]\n",
    "subj = ['Maths','Physics','Chemistry','English']\n",
    "\n",
    "s = pd.Series(marks, index = subj, name = 'Owais ke marks')\n",
    "print(s)"
   ]
  },
  {
   "cell_type": "code",
   "execution_count": 9,
   "id": "58264589-434c-487b-b9b3-5f5aa4ea931e",
   "metadata": {},
   "outputs": [
    {
     "name": "stdout",
     "output_type": "stream",
     "text": [
      "maths        100\n",
      "Physics       90\n",
      "Chemistry     86\n",
      "English       44\n",
      "dtype: int64\n"
     ]
    }
   ],
   "source": [
    "# series as a Dict\n",
    "\n",
    "marks = {\n",
    "    'maths':100,\n",
    "    'Physics':90,\n",
    "    'Chemistry':86,\n",
    "    'English':44\n",
    "}\n",
    "\n",
    "s = pd.Series(marks)\n",
    "print(s)"
   ]
  },
  {
   "cell_type": "markdown",
   "id": "e4e6019a-4d36-40dc-82a9-4d272efa2089",
   "metadata": {},
   "source": [
    "## Series Attributes"
   ]
  },
  {
   "cell_type": "code",
   "execution_count": 20,
   "id": "51da6eca-b6e2-4260-8dfe-fac51ada19fc",
   "metadata": {},
   "outputs": [
    {
     "name": "stdout",
     "output_type": "stream",
     "text": [
      "Maths        100\n",
      "Physics       90\n",
      "Chemistry     86\n",
      "English       44\n",
      "Name: Owais ke marks, dtype: int64\n",
      "4\n",
      "int64\n",
      "Owais ke marks\n",
      "True\n",
      "Index(['Maths', 'Physics', 'Chemistry', 'English'], dtype='object')\n",
      "RangeIndex(start=0, stop=5, step=1)\n",
      "[100  90  86  44]\n"
     ]
    }
   ],
   "source": [
    "# ye hmm use kar skte hai series jo hmm bana chuke hai variable uske sath\n",
    "\n",
    "# size\n",
    "marks = [100, 90, 86, 44]\n",
    "subj = ['Maths','Physics','Chemistry','English']\n",
    "\n",
    "s = pd.Series(marks, index = subj, name = 'Owais ke marks')\n",
    "print(s)\n",
    "\n",
    "size = s.size\n",
    "print(size)\n",
    "\n",
    "# dtype\n",
    "\n",
    "typ = s.dtype\n",
    "print(typ)\n",
    "\n",
    "# name means tumhare series ka name\n",
    "name = s.name\n",
    "print(name)\n",
    "\n",
    "# is_unique ye btata hai apke series ke sare items unique hai ya nhi\n",
    "\n",
    "unique = s.is_unique\n",
    "print(unique)\n",
    "\n",
    "# index ye index ka array return karta hai\n",
    "idx = s.index\n",
    "print(idx)\n",
    "\n",
    "#another example for index\n",
    "runs = [90,100,102,300,400]\n",
    "x = pd.Series(runs)\n",
    "idx = x.index\n",
    "print(idx)\n",
    "\n",
    "# values\n",
    "\n",
    "val = s.values\n",
    "print(val)"
   ]
  },
  {
   "cell_type": "markdown",
   "id": "5f35e1b9-f82c-4ec1-9c2f-4e38da027da1",
   "metadata": {},
   "source": [
    "## Seried read_csv"
   ]
  },
  {
   "cell_type": "code",
   "execution_count": 8,
   "id": "9b025b96-1985-444e-846a-76bd8a74a507",
   "metadata": {},
   "outputs": [
    {
     "name": "stdout",
     "output_type": "stream",
     "text": [
      "0       48\n",
      "1       57\n",
      "2       40\n",
      "3       43\n",
      "4       44\n",
      "      ... \n",
      "360    231\n",
      "361    226\n",
      "362    155\n",
      "363    144\n",
      "364    172\n",
      "Name: Subscribers gained, Length: 365, dtype: int64\n",
      "<class 'pandas.core.series.Series'>\n"
     ]
    }
   ],
   "source": [
    "# with one column\n",
    "\n",
    "subs = pd.read_csv('subs.csv').squeeze(\"columns\")\n",
    "print(subs)\n",
    "print(type(subs))"
   ]
  },
  {
   "cell_type": "code",
   "execution_count": 7,
   "id": "99fe1511-ac85-4fc9-bab1-2415cfe2a30b",
   "metadata": {},
   "outputs": [
    {
     "name": "stdout",
     "output_type": "stream",
     "text": [
      "match_no\n",
      "1       1\n",
      "2      23\n",
      "3      13\n",
      "4      12\n",
      "5       1\n",
      "       ..\n",
      "211     0\n",
      "212    20\n",
      "213    73\n",
      "214    25\n",
      "215     7\n",
      "Name: runs, Length: 215, dtype: int64\n",
      "<class 'pandas.core.series.Series'>\n"
     ]
    }
   ],
   "source": [
    "# with two column\n",
    "vk = pd.read_csv('kohli_ipl.csv', index_col = 'match_no').squeeze(\"columns\")\n",
    "print(vk)\n",
    "print(type(vk))"
   ]
  },
  {
   "cell_type": "code",
   "execution_count": 4,
   "id": "3e14552e-5c06-4489-9d9b-92999e4ad4b4",
   "metadata": {},
   "outputs": [
    {
     "name": "stdout",
     "output_type": "stream",
     "text": [
      "movie\n",
      "Uri: The Surgical Strike                   Vicky Kaushal\n",
      "Battalion 609                                Vicky Ahuja\n",
      "The Accidental Prime Minister (film)         Anupam Kher\n",
      "Why Cheat India                            Emraan Hashmi\n",
      "Evening Shadows                         Mona Ambegaonkar\n",
      "                                              ...       \n",
      "Hum Tumhare Hain Sanam                    Shah Rukh Khan\n",
      "Aankhen (2002 film)                     Amitabh Bachchan\n",
      "Saathiya (film)                             Vivek Oberoi\n",
      "Company (film)                                Ajay Devgn\n",
      "Awara Paagal Deewana                        Akshay Kumar\n",
      "Name: lead, Length: 1500, dtype: object\n",
      "<class 'pandas.core.series.Series'>\n"
     ]
    }
   ],
   "source": [
    "bw = pd.read_csv('bollywood.csv', index_col = 'movie').squeeze(\"columns\")\n",
    "print(bw)\n",
    "print(type(bw))"
   ]
  },
  {
   "cell_type": "markdown",
   "id": "30617f0e-a01f-403f-84a2-4a0d11ab860e",
   "metadata": {},
   "source": [
    "## Seried Methods"
   ]
  },
  {
   "cell_type": "code",
   "execution_count": 9,
   "id": "15572af1-0cde-4947-979c-635ab0148ece",
   "metadata": {},
   "outputs": [
    {
     "name": "stdout",
     "output_type": "stream",
     "text": [
      "0    48\n",
      "1    57\n",
      "2    40\n",
      "3    43\n",
      "4    44\n",
      "5    46\n",
      "6    33\n",
      "7    40\n",
      "8    44\n",
      "9    74\n",
      "Name: Subscribers gained, dtype: int64\n",
      "360    231\n",
      "361    226\n",
      "362    155\n",
      "363    144\n",
      "364    172\n",
      "Name: Subscribers gained, dtype: int64\n"
     ]
    }
   ],
   "source": [
    "# head and tail\n",
    "h = subs.head(10)\n",
    "print(h)\n",
    "t = subs.tail()\n",
    "print(t)"
   ]
  },
  {
   "cell_type": "code",
   "execution_count": 53,
   "id": "00196616-a056-46e5-8057-115842540939",
   "metadata": {},
   "outputs": [
    {
     "name": "stdout",
     "output_type": "stream",
     "text": [
      "movie\n",
      "Maan Gaye Mughal-e-Azam          Mallika Sherawat\n",
      "Yamla Pagla Deewana                    Nafisa Ali\n",
      "The Hero: Love Story of a Spy          Sunny Deol\n",
      "Running Shaadi                         Arsh Bajwa\n",
      "Thugs of Hindostan                     Aamir Khan\n",
      "Name: lead, dtype: object\n"
     ]
    }
   ],
   "source": [
    "# Sample ye koi se bhi dikha dega by default ye 1 dikhayega\n",
    "# baki ab apne hisab se bta skte isko\n",
    "sample = bw.sample(5)\n",
    "print(sample)"
   ]
  },
  {
   "cell_type": "code",
   "execution_count": 9,
   "id": "27c916e4-f5f2-4a62-8f1e-7d4d327d7bd5",
   "metadata": {},
   "outputs": [
    {
     "name": "stdout",
     "output_type": "stream",
     "text": [
      "movie\n",
      "Uri: The Surgical Strike                   Vicky Kaushal\n",
      "Battalion 609                                Vicky Ahuja\n",
      "The Accidental Prime Minister (film)         Anupam Kher\n",
      "Why Cheat India                            Emraan Hashmi\n",
      "Evening Shadows                         Mona Ambegaonkar\n",
      "                                              ...       \n",
      "Hum Tumhare Hain Sanam                    Shah Rukh Khan\n",
      "Aankhen (2002 film)                     Amitabh Bachchan\n",
      "Saathiya (film)                             Vivek Oberoi\n",
      "Company (film)                                Ajay Devgn\n",
      "Awara Paagal Deewana                        Akshay Kumar\n",
      "Name: lead, Length: 1500, dtype: object\n",
      "\n",
      "\n",
      "lead\n",
      "Akshay Kumar        48\n",
      "Amitabh Bachchan    45\n",
      "Ajay Devgn          38\n",
      "Salman Khan         31\n",
      "Sanjay Dutt         26\n",
      "                    ..\n",
      "Diganth              1\n",
      "Parveen Kaur         1\n",
      "Seema Azmi           1\n",
      "Akanksha Puri        1\n",
      "Edwin Fernandes      1\n",
      "Name: count, Length: 566, dtype: int64\n"
     ]
    }
   ],
   "source": [
    "# value_counts frequcncy return karta hai\n",
    "print(bw)\n",
    "print('\\n')\n",
    "count = bw.value_counts()\n",
    "print(count)"
   ]
  },
  {
   "cell_type": "code",
   "execution_count": 12,
   "id": "abd8f41f-a856-420b-a922-5478631c1c4c",
   "metadata": {},
   "outputs": [
    {
     "name": "stdout",
     "output_type": "stream",
     "text": [
      "match_no\n",
      "1       1\n",
      "2      23\n",
      "3      13\n",
      "4      12\n",
      "5       1\n",
      "       ..\n",
      "211     0\n",
      "212    20\n",
      "213    73\n",
      "214    25\n",
      "215     7\n",
      "Name: runs, Length: 215, dtype: int64\n",
      "113\n",
      "match_no\n",
      "87       0\n",
      "211      0\n",
      "207      0\n",
      "206      0\n",
      "91       0\n",
      "      ... \n",
      "164    100\n",
      "120    100\n",
      "123    108\n",
      "126    109\n",
      "128    113\n",
      "Name: runs, Length: 215, dtype: int64\n"
     ]
    }
   ],
   "source": [
    "# sort_values inplace bhi option hai agar original em change karna hai to\n",
    "print(vk)\n",
    "a = vk.sort_values(ascending=False).head(1).values[0]\n",
    "print(a)\n",
    "\n",
    "# inplace\n",
    "vk.sort_values(inplace=True)\n",
    "print(vk)"
   ]
  },
  {
   "cell_type": "code",
   "execution_count": 13,
   "id": "57ec9d3b-fcc7-4105-a723-2cbc715f2b5c",
   "metadata": {},
   "outputs": [
    {
     "name": "stdout",
     "output_type": "stream",
     "text": [
      "movie\n",
      "Uri: The Surgical Strike                   Vicky Kaushal\n",
      "Battalion 609                                Vicky Ahuja\n",
      "The Accidental Prime Minister (film)         Anupam Kher\n",
      "Why Cheat India                            Emraan Hashmi\n",
      "Evening Shadows                         Mona Ambegaonkar\n",
      "                                              ...       \n",
      "Hum Tumhare Hain Sanam                    Shah Rukh Khan\n",
      "Aankhen (2002 film)                     Amitabh Bachchan\n",
      "Saathiya (film)                             Vivek Oberoi\n",
      "Company (film)                                Ajay Devgn\n",
      "Awara Paagal Deewana                        Akshay Kumar\n",
      "Name: lead, Length: 1500, dtype: object\n",
      "movie\n",
      "1920 (film)                   Rajniesh Duggall\n",
      "1920: London                     Sharman Joshi\n",
      "1920: The Evil Returns             Vicky Ahuja\n",
      "1971 (2007 film)                Manoj Bajpayee\n",
      "2 States (2014 film)              Arjun Kapoor\n",
      "                                   ...        \n",
      "Zindagi 50-50                      Veena Malik\n",
      "Zindagi Na Milegi Dobara        Hrithik Roshan\n",
      "Zindagi Tere Naam           Mithun Chakraborty\n",
      "Zokkomon                       Darsheel Safary\n",
      "Zor Lagaa Ke...Haiya!            Meghan Jadhav\n",
      "Name: lead, Length: 1500, dtype: object\n"
     ]
    }
   ],
   "source": [
    "# sort index\n",
    "print(bw)\n",
    "bw.sort_index(inplace=True)\n",
    "print(bw)"
   ]
  },
  {
   "cell_type": "markdown",
   "id": "3bda124e-13ac-48d0-b363-6312415a226d",
   "metadata": {},
   "source": [
    "## Series Maths Method\n"
   ]
  },
  {
   "cell_type": "code",
   "execution_count": 39,
   "id": "2468b220-b8de-47fc-99d4-b1589ffd4dba",
   "metadata": {},
   "outputs": [
    {
     "name": "stdout",
     "output_type": "stream",
     "text": [
      "match_no\n",
      "87       0\n",
      "211      0\n",
      "207      0\n",
      "206      0\n",
      "91       0\n",
      "      ... \n",
      "164    100\n",
      "120    100\n",
      "123    108\n",
      "126    109\n",
      "128    113\n",
      "Name: runs, Length: 215, dtype: int64\n",
      "215\n"
     ]
    }
   ],
   "source": [
    "# count ye no. of items return karta hai but mssing value count nhi karta\n",
    "# size bhi yahin karta hai but wo missing value count karta hai\n",
    "\n",
    "print(vk)\n",
    "c = vk.count()\n",
    "print(c)"
   ]
  },
  {
   "cell_type": "code",
   "execution_count": 42,
   "id": "1f39ac42-60b0-425d-b6be-91912385ce85",
   "metadata": {},
   "outputs": [
    {
     "name": "stdout",
     "output_type": "stream",
     "text": [
      "0       48\n",
      "1       57\n",
      "2       40\n",
      "3       43\n",
      "4       44\n",
      "      ... \n",
      "360    231\n",
      "361    226\n",
      "362    155\n",
      "363    144\n",
      "364    172\n",
      "Name: Subscribers gained, Length: 365, dtype: int64\n",
      "49510\n",
      "0\n"
     ]
    }
   ],
   "source": [
    "# sum/product\n",
    "print(subs)\n",
    "\n",
    "s = subs.sum()\n",
    "print(s)\n",
    "p = subs.prod()\n",
    "print(p)"
   ]
  },
  {
   "cell_type": "code",
   "execution_count": 47,
   "id": "fe6402b0-64cf-4ff5-ab01-0e45db2d739c",
   "metadata": {},
   "outputs": [
    {
     "name": "stdout",
     "output_type": "stream",
     "text": [
      "0       48\n",
      "1       57\n",
      "2       40\n",
      "3       43\n",
      "4       44\n",
      "      ... \n",
      "360    231\n",
      "361    226\n",
      "362    155\n",
      "363    144\n",
      "364    172\n",
      "Name: Subscribers gained, Length: 365, dtype: int64\n",
      "135.64383561643837\n",
      "0    105\n",
      "Name: Subscribers gained, dtype: int64\n",
      "123.0\n",
      "62.67502303725269\n",
      "3928.1585127201556\n"
     ]
    }
   ],
   "source": [
    "# mean median mode std var\n",
    "print(subs)\n",
    "print(subs.mean())\n",
    "print(subs.mode())\n",
    "print(subs.median())\n",
    "print(subs.std())\n",
    "print(subs.var())\n"
   ]
  },
  {
   "cell_type": "code",
   "execution_count": 52,
   "id": "e77ffa4d-4f82-40b0-9fea-cce2dc90e3d9",
   "metadata": {},
   "outputs": [
    {
     "name": "stdout",
     "output_type": "stream",
     "text": [
      "0       48\n",
      "1       57\n",
      "2       40\n",
      "3       43\n",
      "4       44\n",
      "      ... \n",
      "360    231\n",
      "361    226\n",
      "362    155\n",
      "363    144\n",
      "364    172\n",
      "Name: Subscribers gained, Length: 365, dtype: int64\n",
      "33\n",
      "396\n"
     ]
    }
   ],
   "source": [
    "# min / max\n",
    "print(subs)\n",
    "print(subs.min())\n",
    "print(subs.max())"
   ]
  },
  {
   "cell_type": "code",
   "execution_count": 54,
   "id": "cde067ae-3e86-4b56-81cc-7352c3ecd725",
   "metadata": {},
   "outputs": [
    {
     "name": "stdout",
     "output_type": "stream",
     "text": [
      "match_no\n",
      "87       0\n",
      "211      0\n",
      "207      0\n",
      "206      0\n",
      "91       0\n",
      "      ... \n",
      "164    100\n",
      "120    100\n",
      "123    108\n",
      "126    109\n",
      "128    113\n",
      "Name: runs, Length: 215, dtype: int64\n",
      "count    215.000000\n",
      "mean      30.855814\n",
      "std       26.229801\n",
      "min        0.000000\n",
      "25%        9.000000\n",
      "50%       24.000000\n",
      "75%       48.000000\n",
      "max      113.000000\n",
      "Name: runs, dtype: float64\n"
     ]
    }
   ],
   "source": [
    "# describe\n",
    "\n",
    "print(vk)\n",
    "print(vk.describe())"
   ]
  },
  {
   "cell_type": "markdown",
   "id": "d0fac873-eb48-4447-9421-91313519525f",
   "metadata": {},
   "source": [
    "## Boolean Indexing on Series"
   ]
  },
  {
   "cell_type": "code",
   "execution_count": 62,
   "id": "8d6e1c7d-e02b-4205-a9d4-820738a9ef29",
   "metadata": {},
   "outputs": [
    {
     "name": "stdout",
     "output_type": "stream",
     "text": [
      "match_no\n",
      "87       0\n",
      "211      0\n",
      "207      0\n",
      "206      0\n",
      "91       0\n",
      "      ... \n",
      "164    100\n",
      "120    100\n",
      "123    108\n",
      "126    109\n",
      "128    113\n",
      "Name: runs, Length: 215, dtype: int64\n",
      "50\n",
      "5\n"
     ]
    }
   ],
   "source": [
    "# find no. of 50s and 100s scored by kholi\n",
    "print(vk)\n",
    "\n",
    "a = vk[vk >= 50].count()\n",
    "print(a)\n",
    "a = vk[vk >= 100].count()\n",
    "print(a)"
   ]
  },
  {
   "cell_type": "code",
   "execution_count": 65,
   "id": "3ede845b-7873-4e21-9b30-64f0f915236b",
   "metadata": {},
   "outputs": [
    {
     "name": "stdout",
     "output_type": "stream",
     "text": [
      "9\n"
     ]
    }
   ],
   "source": [
    "# find number of ducks\n",
    "\n",
    "a = vk[vk == 0].count()\n",
    "print(a)"
   ]
  },
  {
   "cell_type": "code",
   "execution_count": 68,
   "id": "c255bbf1-3177-4c64-817f-d376d27ede71",
   "metadata": {},
   "outputs": [
    {
     "name": "stdout",
     "output_type": "stream",
     "text": [
      "0       48\n",
      "1       57\n",
      "2       40\n",
      "3       43\n",
      "4       44\n",
      "      ... \n",
      "360    231\n",
      "361    226\n",
      "362    155\n",
      "363    144\n",
      "364    172\n",
      "Name: Subscribers gained, Length: 365, dtype: int64\n",
      "59\n"
     ]
    }
   ],
   "source": [
    "# count number of day when i had more than 100 subs a day\n",
    "print(subs)\n",
    "\n",
    "a = subs[subs > 200].count()\n",
    "print(a)"
   ]
  },
  {
   "cell_type": "code",
   "execution_count": 14,
   "id": "a826f101-68d3-4714-93d9-6476c266ff01",
   "metadata": {},
   "outputs": [
    {
     "name": "stdout",
     "output_type": "stream",
     "text": [
      "movie\n",
      "1920 (film)                   Rajniesh Duggall\n",
      "1920: London                     Sharman Joshi\n",
      "1920: The Evil Returns             Vicky Ahuja\n",
      "1971 (2007 film)                Manoj Bajpayee\n",
      "2 States (2014 film)              Arjun Kapoor\n",
      "                                   ...        \n",
      "Zindagi 50-50                      Veena Malik\n",
      "Zindagi Na Milegi Dobara        Hrithik Roshan\n",
      "Zindagi Tere Naam           Mithun Chakraborty\n",
      "Zokkomon                       Darsheel Safary\n",
      "Zor Lagaa Ke...Haiya!            Meghan Jadhav\n",
      "Name: lead, Length: 1500, dtype: object\n",
      "lead\n",
      "Akshay Kumar          48\n",
      "Amitabh Bachchan      45\n",
      "Ajay Devgn            38\n",
      "Salman Khan           31\n",
      "Sanjay Dutt           26\n",
      "                      ..\n",
      "Mukesh Khanna          1\n",
      "Talha Arshad Reshi     1\n",
      "Paoli Dam              1\n",
      "Amita Pathak           1\n",
      "Meghan Jadhav          1\n",
      "Name: count, Length: 566, dtype: int64\n",
      "['Akshay Kumar', 'Amitabh Bachchan', 'Ajay Devgn', 'Salman Khan', 'Sanjay Dutt', 'Shah Rukh Khan', 'Emraan Hashmi']\n"
     ]
    }
   ],
   "source": [
    "# find actor who have more than 20 movies\n",
    "\n",
    "print(bw)\n",
    "\n",
    "a = bw.value_counts()\n",
    "print(a)\n",
    "a = a[a > 20]\n",
    "print(a.index.tolist())"
   ]
  },
  {
   "cell_type": "markdown",
   "id": "26ce71d5-47b7-4357-bb46-dd07fc1a1b80",
   "metadata": {},
   "source": [
    "## Seried Methods "
   ]
  },
  {
   "cell_type": "code",
   "execution_count": 80,
   "id": "ae5c4b53-ba6e-496f-a28d-a526970ddc5b",
   "metadata": {},
   "outputs": [
    {
     "name": "stdout",
     "output_type": "stream",
     "text": [
      "match_no\n",
      "87       0.0\n",
      "211      0.0\n",
      "207      0.0\n",
      "206      0.0\n",
      "91       0.0\n",
      "       ...  \n",
      "164    100.0\n",
      "120    100.0\n",
      "123    108.0\n",
      "126    109.0\n",
      "128    113.0\n",
      "Name: runs, Length: 215, dtype: float64\n",
      "match_no\n",
      "87       0.0\n",
      "211      0.0\n",
      "207      0.0\n",
      "206      0.0\n",
      "91       0.0\n",
      "       ...  \n",
      "164    100.0\n",
      "120    100.0\n",
      "123    108.0\n",
      "126    109.0\n",
      "128    113.0\n",
      "Name: runs, Length: 215, dtype: float64\n",
      "match_no\n",
      "87       0\n",
      "211      0\n",
      "207      0\n",
      "206      0\n",
      "91       0\n",
      "      ... \n",
      "164    100\n",
      "120    100\n",
      "123    108\n",
      "126    109\n",
      "128    113\n",
      "Name: runs, Length: 215, dtype: int64\n"
     ]
    }
   ],
   "source": [
    "# astype\n",
    "print(vk)\n",
    "\n",
    "vk = vk.astype('float')\n",
    "print(vk)\n",
    "\n",
    "vk = vk.astype('int')\n",
    "print(vk)"
   ]
  },
  {
   "cell_type": "code",
   "execution_count": 83,
   "id": "885e8815-16b3-4fae-a47b-a7d7ea982f55",
   "metadata": {},
   "outputs": [
    {
     "name": "stdout",
     "output_type": "stream",
     "text": [
      "47\n"
     ]
    }
   ],
   "source": [
    "# between ye range me find karta hai agar mil gaya to boolean return karta hai True aur False me\n",
    "\n",
    "a = vk[vk.between(50,101)].count()\n",
    "print(a)\n"
   ]
  },
  {
   "cell_type": "code",
   "execution_count": 86,
   "id": "fefe07b3-2a9a-4097-8c69-90a06be853bc",
   "metadata": {},
   "outputs": [
    {
     "name": "stdout",
     "output_type": "stream",
     "text": [
      "[1 2 3 4 5 6 8 9]\n"
     ]
    }
   ],
   "source": [
    "# drop_duplicates() idhar keep use howa hai first ya last ke apko knsa rakhna hai aur baki knsa urana hai\n",
    "temp = pd.Series([1,2,3,1,4,5,6,1,2,8,9])\n",
    "temp = temp.drop_duplicates()\n",
    "print(temp.values)"
   ]
  },
  {
   "cell_type": "code",
   "execution_count": 94,
   "id": "a63f82e7-dc98-42a4-8e08-0ce3029c2c4b",
   "metadata": {},
   "outputs": [
    {
     "name": "stdout",
     "output_type": "stream",
     "text": [
      "0     False\n",
      "1     False\n",
      "2     False\n",
      "3      True\n",
      "4     False\n",
      "5     False\n",
      "6     False\n",
      "7      True\n",
      "8      True\n",
      "9     False\n",
      "10    False\n",
      "dtype: bool\n",
      "3    1\n",
      "7    1\n",
      "8    2\n",
      "dtype: int64\n",
      "3\n"
     ]
    }
   ],
   "source": [
    "# duplicated ye btata hai ke duplicate hai ya nhi\n",
    "temp = pd.Series([1,2,3,1,4,5,6,1,2,8,9])\n",
    "print(temp.duplicated())\n",
    "print(temp[temp.duplicated()])\n",
    "print(temp.duplicated().sum())"
   ]
  },
  {
   "cell_type": "code",
   "execution_count": 113,
   "id": "9a4ad335-f237-40f3-a193-d08eea65834f",
   "metadata": {},
   "outputs": [
    {
     "name": "stdout",
     "output_type": "stream",
     "text": [
      "0     1.0\n",
      "1     2.0\n",
      "2     3.0\n",
      "3     4.0\n",
      "4     NaN\n",
      "5     6.0\n",
      "6     NaN\n",
      "7     NaN\n",
      "8     9.0\n",
      "9    10.0\n",
      "dtype: float64\n",
      "10\n",
      "7\n"
     ]
    }
   ],
   "source": [
    "# Missing data\n",
    "temp = pd.Series([1,2,3,4,np.nan,6,np.nan, np.nan, 9, 10])\n",
    "print(temp)\n",
    "\n",
    "print(temp.size)\n",
    "print(temp.count())"
   ]
  },
  {
   "cell_type": "code",
   "execution_count": 107,
   "id": "881f4ea2-fd48-4be2-8ea0-f7742f4c98f4",
   "metadata": {},
   "outputs": [
    {
     "name": "stdout",
     "output_type": "stream",
     "text": [
      "0    False\n",
      "1    False\n",
      "2    False\n",
      "3    False\n",
      "4     True\n",
      "5    False\n",
      "6     True\n",
      "7     True\n",
      "8    False\n",
      "9    False\n",
      "dtype: bool\n",
      "3\n"
     ]
    }
   ],
   "source": [
    "# isnull\n",
    "print(temp.isnull())\n",
    "a = temp.isnull().sum()\n",
    "print(a)"
   ]
  },
  {
   "cell_type": "code",
   "execution_count": 122,
   "id": "910d3e2c-2b1b-4f13-ae85-6ad93dbdd412",
   "metadata": {},
   "outputs": [
    {
     "name": "stdout",
     "output_type": "stream",
     "text": [
      "0     1.0\n",
      "1     2.0\n",
      "2     3.0\n",
      "3     4.0\n",
      "4     NaN\n",
      "5     6.0\n",
      "6     NaN\n",
      "7     NaN\n",
      "8     9.0\n",
      "9    10.0\n",
      "dtype: float64\n"
     ]
    }
   ],
   "source": [
    "# dropna\n",
    "\n",
    "temp.dropna()\n",
    "print(temp)"
   ]
  },
  {
   "cell_type": "code",
   "execution_count": 124,
   "id": "75bd1489-f80e-4439-9054-d0679a1aa56d",
   "metadata": {},
   "outputs": [
    {
     "name": "stdout",
     "output_type": "stream",
     "text": [
      "0     1.0\n",
      "1     2.0\n",
      "2     3.0\n",
      "3     4.0\n",
      "4     NaN\n",
      "5     6.0\n",
      "6     NaN\n",
      "7     NaN\n",
      "8     9.0\n",
      "9    10.0\n",
      "dtype: float64\n",
      "0     1.0\n",
      "1     2.0\n",
      "2     3.0\n",
      "3     4.0\n",
      "4     NaN\n",
      "5     6.0\n",
      "6     NaN\n",
      "7     NaN\n",
      "8     9.0\n",
      "9    10.0\n",
      "dtype: float64\n",
      "0     1.0\n",
      "1     2.0\n",
      "2     3.0\n",
      "3     4.0\n",
      "4     5.0\n",
      "5     6.0\n",
      "6     5.0\n",
      "7     5.0\n",
      "8     9.0\n",
      "9    10.0\n",
      "dtype: float64\n"
     ]
    }
   ],
   "source": [
    "# fillna\n",
    "temp = pd.Series([1,2,3,4,np.nan,6,np.nan, np.nan, 9, 10])\n",
    "print(temp)\n",
    "\n",
    "temp.fillna(0)\n",
    "print(temp)\n",
    "\n",
    "temp.fillna(temp.mean(),inplace=True)\n",
    "print(temp)"
   ]
  },
  {
   "cell_type": "code",
   "execution_count": 128,
   "id": "1a905d17-90fa-4a0b-aaef-d67ccabef190",
   "metadata": {},
   "outputs": [
    {
     "name": "stdout",
     "output_type": "stream",
     "text": [
      "match_no\n",
      "87       0\n",
      "211      0\n",
      "207      0\n",
      "206      0\n",
      "91       0\n",
      "      ... \n",
      "164    100\n",
      "120    100\n",
      "123    108\n",
      "126    109\n",
      "128    113\n",
      "Name: runs, Length: 215, dtype: int64\n",
      "match_no\n",
      "86     49\n",
      "15     50\n",
      "182    50\n",
      "82     99\n",
      "Name: runs, dtype: int64\n"
     ]
    }
   ],
   "source": [
    "# isin\n",
    "print(vk)\n",
    "\n",
    "print(vk[vk.isin([50,49,99])])"
   ]
  },
  {
   "cell_type": "code",
   "execution_count": 134,
   "id": "53de8009-96a7-45f0-9eaa-c08bc895f3db",
   "metadata": {},
   "outputs": [
    {
     "name": "stdout",
     "output_type": "stream",
     "text": [
      "movie\n",
      "1920 (film)                   Rajniesh Duggall\n",
      "1920: London                     Sharman Joshi\n",
      "1920: The Evil Returns             Vicky Ahuja\n",
      "1971 (2007 film)                Manoj Bajpayee\n",
      "2 States (2014 film)              Arjun Kapoor\n",
      "                                   ...        \n",
      "Zindagi 50-50                      Veena Malik\n",
      "Zindagi Na Milegi Dobara        Hrithik Roshan\n",
      "Zindagi Tere Naam           Mithun Chakraborty\n",
      "Zokkomon                       Darsheel Safary\n",
      "Zor Lagaa Ke...Haiya!            Meghan Jadhav\n",
      "Name: lead, Length: 1500, dtype: object\n",
      "\n",
      "\n",
      "movie\n",
      "1920 (film)                   [Rajniesh, Duggall]\n",
      "1920: London                     [Sharman, Joshi]\n",
      "1920: The Evil Returns             [Vicky, Ahuja]\n",
      "1971 (2007 film)                [Manoj, Bajpayee]\n",
      "2 States (2014 film)              [Arjun, Kapoor]\n",
      "                                    ...          \n",
      "Zindagi 50-50                      [Veena, Malik]\n",
      "Zindagi Na Milegi Dobara        [Hrithik, Roshan]\n",
      "Zindagi Tere Naam           [Mithun, Chakraborty]\n",
      "Zokkomon                       [Darsheel, Safary]\n",
      "Zor Lagaa Ke...Haiya!            [Meghan, Jadhav]\n",
      "Name: lead, Length: 1500, dtype: object\n",
      "\n",
      "\n",
      "movie\n",
      "1920 (film)                 RAJNIESH\n",
      "1920: London                 SHARMAN\n",
      "1920: The Evil Returns         VICKY\n",
      "1971 (2007 film)               MANOJ\n",
      "2 States (2014 film)           ARJUN\n",
      "                              ...   \n",
      "Zindagi 50-50                  VEENA\n",
      "Zindagi Na Milegi Dobara     HRITHIK\n",
      "Zindagi Tere Naam             MITHUN\n",
      "Zokkomon                    DARSHEEL\n",
      "Zor Lagaa Ke...Haiya!         MEGHAN\n",
      "Name: lead, Length: 1500, dtype: object\n"
     ]
    }
   ],
   "source": [
    "# apply  ye custome logic apply karne ke liye hota hai\n",
    "\n",
    "print(bw)\n",
    "# is example me mujhe full name nhi chahiye sirf first name chahiye wo bhi capital\n",
    "print('\\n')\n",
    "print(bw.apply(lambda x:x.split()))\n",
    "print('\\n')\n",
    "print(bw.apply(lambda x:x.split()[0].upper()))"
   ]
  },
  {
   "cell_type": "code",
   "execution_count": 138,
   "id": "9046ec88-925f-4d6e-9f59-062d18841515",
   "metadata": {},
   "outputs": [
    {
     "name": "stdout",
     "output_type": "stream",
     "text": [
      "0       48\n",
      "1       57\n",
      "2       40\n",
      "3       43\n",
      "4       44\n",
      "      ... \n",
      "360    231\n",
      "361    226\n",
      "362    155\n",
      "363    144\n",
      "364    172\n",
      "Name: Subscribers gained, Length: 365, dtype: int64\n",
      "0       bad day\n",
      "1       bad day\n",
      "2       bad day\n",
      "3       bad day\n",
      "4       bad day\n",
      "         ...   \n",
      "360    good day\n",
      "361    good day\n",
      "362    good day\n",
      "363    good day\n",
      "364    good day\n",
      "Name: Subscribers gained, Length: 365, dtype: object\n"
     ]
    }
   ],
   "source": [
    "print(subs)\n",
    "\n",
    "a = subs.apply(lambda x:'good day' if x > subs.mean() else 'bad day')\n",
    "print(a)"
   ]
  }
 ],
 "metadata": {
  "kernelspec": {
   "display_name": "Python 3 (ipykernel)",
   "language": "python",
   "name": "python3"
  },
  "language_info": {
   "codemirror_mode": {
    "name": "ipython",
    "version": 3
   },
   "file_extension": ".py",
   "mimetype": "text/x-python",
   "name": "python",
   "nbconvert_exporter": "python",
   "pygments_lexer": "ipython3",
   "version": "3.13.5"
  }
 },
 "nbformat": 4,
 "nbformat_minor": 5
}
